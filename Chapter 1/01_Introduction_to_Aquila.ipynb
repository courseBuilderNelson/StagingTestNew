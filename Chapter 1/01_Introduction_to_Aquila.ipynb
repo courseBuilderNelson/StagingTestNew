{
 "cells": [
  {
   "cell_type": "markdown",
   "id": "81fd6f3c-3300-4884-a8d1-72f0b9362d79",
   "metadata": {},
   "source": [
    "<h1>TestChapterFile MCQ + FRQ</h1>"
   ]
  },
  {
   "cell_type": "code",
   "execution_count": null,
   "id": "0a1c19f8-7a2a-43c7-8abe-04986662b92b",
   "metadata": {},
   "outputs": [],
   "source": [
    "FreeResponseQuestion(\"Cy-Test-FRQhkdimtci9zl3qvzre6vlgvunurij5e\")"
   ]
  },
  {
   "cell_type": "code",
   "execution_count": null,
   "id": "528b14d9-ac94-4325-8ca0-21f8f0defa31",
   "metadata": {},
   "outputs": [],
   "source": [
    "MultipleChoiceQuestion(\"Cy-Test-MCQr54gge27yqosmw076atch6i66gvlai\")"
   ]
  }
 ],
 "metadata": {
  "kernelspec": {
   "display_name": "Python 3 (ipykernel)",
   "language": "python",
   "name": "python3"
  },
  "language_info": {
   "codemirror_mode": {
    "name": "ipython",
    "version": 3
   },
   "file_extension": ".py",
   "mimetype": "text/x-python",
   "name": "python",
   "nbconvert_exporter": "python",
   "pygments_lexer": "ipython3",
   "version": "3.11.8"
  }
 },
 "nbformat": 4,
 "nbformat_minor": 5
}
